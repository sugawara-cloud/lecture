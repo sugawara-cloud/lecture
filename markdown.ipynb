{
 "cells": [
  {
   "cell_type": "markdown",
   "id": "aa31fc4e",
   "metadata": {},
   "source": [
    "medium"
   ]
  },
  {
   "cell_type": "markdown",
   "id": "0f8de76e",
   "metadata": {},
   "source": [
    "**big**"
   ]
  },
  {
   "cell_type": "markdown",
   "id": "1d9c8acf",
   "metadata": {},
   "source": [
    "abcd\n",
    ">1234\n",
    ">>5678\n",
    "\n",
    ">1234\n",
    "\n",
    "abcd"
   ]
  },
  {
   "cell_type": "markdown",
   "id": "9d5dcff6",
   "metadata": {},
   "source": [
    "agadfaegj<br>fajoelwi"
   ]
  },
  {
   "cell_type": "markdown",
   "id": "7f1a8c45",
   "metadata": {},
   "source": [
    "- A\n",
    "    - B"
   ]
  },
  {
   "cell_type": "markdown",
   "id": "4710c32b",
   "metadata": {},
   "source": [
    "# 見出し"
   ]
  },
  {
   "cell_type": "markdown",
   "id": "7004bd18",
   "metadata": {},
   "source": [
    "` ` `print(1)\n",
    "` ` `"
   ]
  },
  {
   "cell_type": "markdown",
   "id": "ce3c52e9",
   "metadata": {},
   "source": [
    "1. A\n",
    "    5. B"
   ]
  },
  {
   "cell_type": "markdown",
   "id": "94636001",
   "metadata": {},
   "source": [
    "|A|B|\n",
    "|------|------|"
   ]
  },
  {
   "cell_type": "markdown",
   "id": "ba36cec9",
   "metadata": {},
   "source": [
    "[url](http://localhost/)"
   ]
  },
  {
   "cell_type": "markdown",
   "id": "a741e61f",
   "metadata": {},
   "source": [
    "$$\\sum_{i=0}^{n}a_{i}$$"
   ]
  },
  {
   "cell_type": "code",
   "execution_count": null,
   "id": "d3a29e9b",
   "metadata": {},
   "outputs": [],
   "source": []
  }
 ],
 "metadata": {
  "kernelspec": {
   "display_name": "Python 3 (ipykernel)",
   "language": "python",
   "name": "python3"
  },
  "language_info": {
   "codemirror_mode": {
    "name": "ipython",
    "version": 3
   },
   "file_extension": ".py",
   "mimetype": "text/x-python",
   "name": "python",
   "nbconvert_exporter": "python",
   "pygments_lexer": "ipython3",
   "version": "3.9.7"
  }
 },
 "nbformat": 4,
 "nbformat_minor": 5
}
